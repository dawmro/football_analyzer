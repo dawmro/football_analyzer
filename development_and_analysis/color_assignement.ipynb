{
 "cells": [
  {
   "cell_type": "code",
   "execution_count": 7,
   "metadata": {},
   "outputs": [],
   "source": [
    "import sys\n",
    "sys.path.append('..')\n",
    "from utils import read_video \n",
    "from trackers import Tracker\n",
    "import cv2\n",
    "\n",
    "\n",
    "video_frames = read_video(\"../input_videos/08fd33_4.mp4\")\n",
    "\n",
    "# initalize tracker\n",
    "tracker = Tracker('../models/best.pt')\n",
    "\n",
    "tracks = tracker.get_object_tracks(video_frames, read_from_stubs=True, stub_path='../stubs/track_stubs.pkl')\n",
    "\n",
    "\n",
    "# save cropped image of a player\n",
    "for track_id, player in tracks['players'][0].items():\n",
    "    bbox = player['bbox']\n",
    "    frame = video_frames[0]\n",
    "\n",
    "    # crop bbox from frame\n",
    "    cropped_image = frame[int(bbox[1]):int(bbox[3]), int(bbox[0]):int(bbox[2])]\n",
    "\n",
    "    # save cropped image\n",
    "    cv2.imwrite(f\"../output_videos/cropped_img.jpg\", cropped_image)\n",
    "    break"
   ]
  },
  {
   "cell_type": "code",
   "execution_count": null,
   "metadata": {},
   "outputs": [],
   "source": []
  }
 ],
 "metadata": {
  "kernelspec": {
   "display_name": "env",
   "language": "python",
   "name": "python3"
  },
  "language_info": {
   "codemirror_mode": {
    "name": "ipython",
    "version": 3
   },
   "file_extension": ".py",
   "mimetype": "text/x-python",
   "name": "python",
   "nbconvert_exporter": "python",
   "pygments_lexer": "ipython3",
   "version": "3.10.6"
  }
 },
 "nbformat": 4,
 "nbformat_minor": 2
}
